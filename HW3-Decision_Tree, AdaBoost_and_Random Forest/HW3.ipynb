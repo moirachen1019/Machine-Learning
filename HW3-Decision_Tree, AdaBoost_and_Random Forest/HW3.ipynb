{
  "cells": [
    {
      "cell_type": "markdown",
      "metadata": {
        "id": "ZBlH4IaVJER-"
      },
      "source": [
        "## HW3: Decision Tree, AdaBoost and Random Forest\n",
        "In hw3, you need to implement decision tree, adaboost and random forest by using only numpy, then train your implemented model by the provided dataset. TA will use the on-hold test label to evaluate your model performance.\n",
        "\n",
        "Please note that only **NUMPY** can be used to implement your model, you will get no points by simply calling `sklearn.tree.DecisionTreeClassifier`"
      ]
    },
    {
      "cell_type": "markdown",
      "metadata": {
        "id": "D1ctWanXJESB"
      },
      "source": [
        "## Question 1\n",
        "Gini Index or Entropy is often used for measuring the “best” splitting of the data. Please compute the Entropy and Gini Index of provided data. Please use the formula from [page 5 of hw3 slides](https://docs.google.com/presentation/d/1kIe_-YZdemRMmr_3xDy-l0OS2EcLgDH7Uan14tlU5KE/edit#slide=id.gd542a5ff75_0_15)"
      ]
    },
    {
      "cell_type": "code",
      "execution_count": 1,
      "metadata": {
        "id": "qKEBlYS3JESB"
      },
      "outputs": [],
      "source": [
        "import numpy as np\n",
        "# Copy and paste your implementations right here to check your result\n",
        "# (Of course you can add your classes not written here)\n",
        "def class_counts(sequence):\n",
        "    counts = {} # dictionary\n",
        "    for item in sequence:\n",
        "        label = item\n",
        "        if label not in counts: # 第一次算到\n",
        "            counts[label] = 0\n",
        "        counts[label] += 1\n",
        "    return counts\n",
        "\n",
        "def gini(sequence):\n",
        "    counts = class_counts(sequence)\n",
        "    gini = 1\n",
        "    for c in counts: # 跑過所有label\n",
        "        prob = counts[c] / len(sequence)\n",
        "        gini -= prob**2\n",
        "    return gini\n",
        "\n",
        "def entropy(sequence):\n",
        "    counts = class_counts(sequence)\n",
        "    entropy = 0\n",
        "    for c in counts: # 跑過所有label\n",
        "        prob = counts[c] / len(sequence)\n",
        "        entropy -= prob * np.log2(prob)\n",
        "    return entropy"
      ]
    },
    {
      "cell_type": "code",
      "execution_count": 2,
      "metadata": {
        "colab": {
          "base_uri": "https://localhost:8080/"
        },
        "id": "sfciXR72JESC",
        "outputId": "cd00515c-aaaa-43aa-bfc8-19a6413c0082"
      },
      "outputs": [
        {
          "name": "stdout",
          "output_type": "stream",
          "text": [
            "Gini of data is  0.4628099173553719\n",
            "Entropy of data is  0.9456603046006401\n"
          ]
        }
      ],
      "source": [
        "# 1 = class 1,\n",
        "# 2 = class 2\n",
        "data = np.array([1,2,1,1,1,1,2,2,1,1,2])\n",
        "print(\"Gini of data is \", gini(data))\n",
        "print(\"Entropy of data is \", entropy(data))"
      ]
    },
    {
      "cell_type": "markdown",
      "metadata": {
        "id": "HWx_mc1QJESD"
      },
      "source": [
        "## Load data\n",
        "It is a binary classifiation dataset that classify if price is high or not for a cell phone, the label is stored in `price_range` column."
      ]
    },
    {
      "cell_type": "code",
      "execution_count": 3,
      "metadata": {
        "colab": {
          "base_uri": "https://localhost:8080/"
        },
        "id": "HAY5oyEtJESE",
        "outputId": "fb29d843-832c-48c2-8b39-30ac718010bc"
      },
      "outputs": [
        {
          "name": "stdout",
          "output_type": "stream",
          "text": [
            "(1200, 21)\n",
            "(300, 21)\n"
          ]
        },
        {
          "data": {
            "text/html": [
              "<div>\n",
              "<style scoped>\n",
              "    .dataframe tbody tr th:only-of-type {\n",
              "        vertical-align: middle;\n",
              "    }\n",
              "\n",
              "    .dataframe tbody tr th {\n",
              "        vertical-align: top;\n",
              "    }\n",
              "\n",
              "    .dataframe thead th {\n",
              "        text-align: right;\n",
              "    }\n",
              "</style>\n",
              "<table border=\"1\" class=\"dataframe\">\n",
              "  <thead>\n",
              "    <tr style=\"text-align: right;\">\n",
              "      <th></th>\n",
              "      <th>battery_power</th>\n",
              "      <th>blue</th>\n",
              "      <th>clock_speed</th>\n",
              "      <th>dual_sim</th>\n",
              "      <th>fc</th>\n",
              "      <th>four_g</th>\n",
              "      <th>int_memory</th>\n",
              "      <th>m_dep</th>\n",
              "      <th>mobile_wt</th>\n",
              "      <th>n_cores</th>\n",
              "      <th>...</th>\n",
              "      <th>px_height</th>\n",
              "      <th>px_width</th>\n",
              "      <th>ram</th>\n",
              "      <th>sc_h</th>\n",
              "      <th>sc_w</th>\n",
              "      <th>talk_time</th>\n",
              "      <th>three_g</th>\n",
              "      <th>touch_screen</th>\n",
              "      <th>wifi</th>\n",
              "      <th>price_range</th>\n",
              "    </tr>\n",
              "  </thead>\n",
              "  <tbody>\n",
              "    <tr>\n",
              "      <th>0</th>\n",
              "      <td>1583</td>\n",
              "      <td>1</td>\n",
              "      <td>2.1</td>\n",
              "      <td>1</td>\n",
              "      <td>11</td>\n",
              "      <td>0</td>\n",
              "      <td>14</td>\n",
              "      <td>0.7</td>\n",
              "      <td>148</td>\n",
              "      <td>7</td>\n",
              "      <td>...</td>\n",
              "      <td>942</td>\n",
              "      <td>1651</td>\n",
              "      <td>1704</td>\n",
              "      <td>17</td>\n",
              "      <td>13</td>\n",
              "      <td>2</td>\n",
              "      <td>1</td>\n",
              "      <td>0</td>\n",
              "      <td>1</td>\n",
              "      <td>1</td>\n",
              "    </tr>\n",
              "    <tr>\n",
              "      <th>1</th>\n",
              "      <td>745</td>\n",
              "      <td>1</td>\n",
              "      <td>0.6</td>\n",
              "      <td>1</td>\n",
              "      <td>5</td>\n",
              "      <td>0</td>\n",
              "      <td>35</td>\n",
              "      <td>0.8</td>\n",
              "      <td>102</td>\n",
              "      <td>8</td>\n",
              "      <td>...</td>\n",
              "      <td>89</td>\n",
              "      <td>1538</td>\n",
              "      <td>2459</td>\n",
              "      <td>14</td>\n",
              "      <td>1</td>\n",
              "      <td>16</td>\n",
              "      <td>1</td>\n",
              "      <td>1</td>\n",
              "      <td>0</td>\n",
              "      <td>0</td>\n",
              "    </tr>\n",
              "    <tr>\n",
              "      <th>2</th>\n",
              "      <td>832</td>\n",
              "      <td>0</td>\n",
              "      <td>0.7</td>\n",
              "      <td>1</td>\n",
              "      <td>2</td>\n",
              "      <td>1</td>\n",
              "      <td>39</td>\n",
              "      <td>0.7</td>\n",
              "      <td>103</td>\n",
              "      <td>4</td>\n",
              "      <td>...</td>\n",
              "      <td>125</td>\n",
              "      <td>1504</td>\n",
              "      <td>1799</td>\n",
              "      <td>5</td>\n",
              "      <td>2</td>\n",
              "      <td>11</td>\n",
              "      <td>1</td>\n",
              "      <td>0</td>\n",
              "      <td>1</td>\n",
              "      <td>0</td>\n",
              "    </tr>\n",
              "    <tr>\n",
              "      <th>3</th>\n",
              "      <td>1175</td>\n",
              "      <td>1</td>\n",
              "      <td>1.3</td>\n",
              "      <td>0</td>\n",
              "      <td>2</td>\n",
              "      <td>0</td>\n",
              "      <td>19</td>\n",
              "      <td>0.3</td>\n",
              "      <td>164</td>\n",
              "      <td>7</td>\n",
              "      <td>...</td>\n",
              "      <td>873</td>\n",
              "      <td>1394</td>\n",
              "      <td>1944</td>\n",
              "      <td>9</td>\n",
              "      <td>4</td>\n",
              "      <td>9</td>\n",
              "      <td>1</td>\n",
              "      <td>1</td>\n",
              "      <td>0</td>\n",
              "      <td>0</td>\n",
              "    </tr>\n",
              "    <tr>\n",
              "      <th>4</th>\n",
              "      <td>695</td>\n",
              "      <td>0</td>\n",
              "      <td>0.5</td>\n",
              "      <td>0</td>\n",
              "      <td>18</td>\n",
              "      <td>1</td>\n",
              "      <td>12</td>\n",
              "      <td>0.6</td>\n",
              "      <td>196</td>\n",
              "      <td>2</td>\n",
              "      <td>...</td>\n",
              "      <td>1649</td>\n",
              "      <td>1829</td>\n",
              "      <td>2855</td>\n",
              "      <td>16</td>\n",
              "      <td>13</td>\n",
              "      <td>7</td>\n",
              "      <td>1</td>\n",
              "      <td>1</td>\n",
              "      <td>1</td>\n",
              "      <td>1</td>\n",
              "    </tr>\n",
              "  </tbody>\n",
              "</table>\n",
              "<p>5 rows × 21 columns</p>\n",
              "</div>"
            ],
            "text/plain": [
              "   battery_power  blue  clock_speed  dual_sim  fc  four_g  int_memory  m_dep  \\\n",
              "0           1583     1          2.1         1  11       0          14    0.7   \n",
              "1            745     1          0.6         1   5       0          35    0.8   \n",
              "2            832     0          0.7         1   2       1          39    0.7   \n",
              "3           1175     1          1.3         0   2       0          19    0.3   \n",
              "4            695     0          0.5         0  18       1          12    0.6   \n",
              "\n",
              "   mobile_wt  n_cores  ...  px_height  px_width   ram  sc_h  sc_w  talk_time  \\\n",
              "0        148        7  ...        942      1651  1704    17    13          2   \n",
              "1        102        8  ...         89      1538  2459    14     1         16   \n",
              "2        103        4  ...        125      1504  1799     5     2         11   \n",
              "3        164        7  ...        873      1394  1944     9     4          9   \n",
              "4        196        2  ...       1649      1829  2855    16    13          7   \n",
              "\n",
              "   three_g  touch_screen  wifi  price_range  \n",
              "0        1             0     1            1  \n",
              "1        1             1     0            0  \n",
              "2        1             0     1            0  \n",
              "3        1             1     0            0  \n",
              "4        1             1     1            1  \n",
              "\n",
              "[5 rows x 21 columns]"
            ]
          },
          "execution_count": 3,
          "metadata": {},
          "output_type": "execute_result"
        }
      ],
      "source": [
        "import pandas as pd\n",
        "from csv import reader\n",
        "\n",
        "train_df = pd.read_csv('/Users/chunpei/ML/hw3/train.csv')\n",
        "val_df = pd.read_csv('/Users/chunpei/ML/hw3/val.csv')\n",
        "print(train_df.shape)\n",
        "print(val_df.shape)\n",
        "train_df.head()"
      ]
    },
    {
      "cell_type": "markdown",
      "metadata": {
        "id": "z9yK3NTGJESE"
      },
      "source": [
        "## Question 2\n",
        "Implement the Decision Tree algorithm (CART, Classification and Regression Trees) and trained the model by the given arguments, and print the accuracy score on the validation data. You should implement two arguments for the Decision Tree algorithm\n",
        "1. **criterion**: The function to measure the quality of a split. Your model should support `gini` for the Gini impurity and `entropy` for the information gain. \n",
        "2. **max_depth**: The maximum depth of the tree. If `max_depth=None`, then nodes are expanded until all leaves are pure. `max_depth=1` equals to split data once\n"
      ]
    },
    {
      "cell_type": "code",
      "execution_count": 4,
      "metadata": {
        "id": "fH7MM_C8D514"
      },
      "outputs": [],
      "source": [
        "class Question: #column對應到第幾個feature，value代表分界的threshold\n",
        "    def __init__(self, column, value):\n",
        "        self.column = column\n",
        "        self.value = value\n",
        "\n",
        "class Leaf: #決定代表的class\n",
        "    def __init__(self, data):\n",
        "        content = [(value, key) for key, value in class_counts(data[:,-1]).items()]\n",
        "        self.predictions = max(content)[1]\n",
        "\n",
        "class Decision_Node: #record the question and two child nodes\n",
        "    def __init__(self, question, true_branch, false_branch, len_true_branch, len_false_branch):\n",
        "        self.question = question\n",
        "        self.true_branch = true_branch\n",
        "        self.false_branch = false_branch\n",
        "        self.len_true_branch = len_true_branch\n",
        "        self.len_false_branch = len_false_branch"
      ]
    },
    {
      "cell_type": "code",
      "execution_count": 5,
      "metadata": {
        "id": "5IjOLUF1JESE"
      },
      "outputs": [],
      "source": [
        "class DecisionTree():\n",
        "    def __init__(self, criterion, max_depth):\n",
        "        self.criterion = criterion\n",
        "        self.max_depth = max_depth\n",
        "        self.max_features = -1\n",
        "        self.features_counting = np.zeros(20)\n",
        "\n",
        "    def fit(self, x_data, y_data):\n",
        "        row = x_data.shape[0]\n",
        "        col = x_data.shape[1] + 1 #加上lable\n",
        "        data = np.empty(shape=(row, col))\n",
        "        data.fill(0)\n",
        "        data[:, 0:(col-1)] = x_data\n",
        "        data[:, -1] = y_data #合併x_data, y_data成data\n",
        "        level = 0 # root depth = 0\n",
        "        self.features_counting = np.zeros(col - 1) # question3用到\n",
        "        self.mytree = self.build_tree(data, level)\n",
        "        \n",
        "    def build_tree(self, data, level):\n",
        "        gain, question = self.find_best_split(data) # 找到這一次best_split的gain跟question\n",
        "        if gain == 0 or level == self.max_depth: # gain = 0 or reach max_depth，Leaf node\n",
        "          return Leaf(data)\n",
        "        true_rows, false_rows = self.partition(data, question) # 把資料根據question分成兩堆\n",
        "        self.features_counting[question.column] += 1 # question3用到\n",
        "        # print(question.column, \" \", question.value, \" \", len(true_rows), \" \", len(false_rows))\n",
        "        true_branch = self.build_tree(true_rows, level+1) # build the true branch recursively\n",
        "        false_branch = self.build_tree(false_rows, level+1) # build the false branch recursively\n",
        "        return Decision_Node(question, true_branch, false_branch, len(true_rows), len(false_rows))\n",
        "\n",
        "    def find_best_split(self, data):\n",
        "      best_gain = 0\n",
        "      best_question = None\n",
        "      if self.criterion =='gini': # 根據不同criterion call function，calculate current value\n",
        "        cri_now = gini(data[:, -1])\n",
        "      elif self.criterion =='entropy':\n",
        "        cri_now = entropy(data[:,-1])\n",
        "      \n",
        "      if self.max_features != -1: # random forest case\n",
        "        feature_list = np.random.choice((data.shape[1]-1), self.max_features, replace=False) # produce feature list\n",
        "        feature_list = feature_list.tolist()\n",
        "      \n",
        "      for col in range(data.shape[1] - 1):  # for each feature column\n",
        "          if self.max_features != -1: # random forest case\n",
        "            if col not in feature_list: # 只做在feature_list內的\n",
        "              continue\n",
        "          values = set([data[i, col] for i in range(data.shape[0])]) # unique values in this feature column\n",
        "          for val in values:\n",
        "              question = Question(col, val)\n",
        "              true_rows, false_rows = self.partition(data, question) # 把資料根據question分成兩堆，測試看看question選得好不好\n",
        "              if len(true_rows) == 0 or len(false_rows) == 0: # can't divide -> skip\n",
        "                  continue\n",
        "              p = float(len(true_rows) / (len(true_rows) + len(false_rows)))\n",
        "              if self.criterion =='gini':\n",
        "                gain = cri_now - p * gini(true_rows[:, -1]) - (1 - p) * gini(false_rows[:, -1]) # calculate the information gain\n",
        "              elif self.criterion =='entropy':\n",
        "                gain = cri_now - p * entropy(true_rows[:, -1]) - (1 - p) * entropy(false_rows[:, -1])\n",
        "              if gain > best_gain:\n",
        "                  best_gain, best_question = gain, question\n",
        "      return best_gain, best_question\n",
        "\n",
        "    def partition(self, data, question):\n",
        "      true_rows, false_rows = [], []\n",
        "      for i in range(data.shape[0]): # 所有資料根據question做分類\n",
        "          if data[i, question.column] >= question.value:\n",
        "              true_rows.append(data[i, :])\n",
        "          else:\n",
        "              false_rows.append(data[i, :])\n",
        "      true_rows = np.array(true_rows)\n",
        "      false_rows = np.array(false_rows)\n",
        "      return true_rows, false_rows\n",
        "    \n",
        "    def predict(self, data):\n",
        "        if isinstance(data, pd.DataFrame): data = data.values\n",
        "        predit_list = []\n",
        "        for i in range(data.shape[0]):\n",
        "          pred = self.classify(data, i, self.mytree) # 每筆資料的classify結果\n",
        "          predit_list.append(pred)\n",
        "        predit_list = np.array(predit_list)\n",
        "        return predit_list\n",
        "\n",
        "    def classify(self, data, i, node):\n",
        "        if isinstance(node, Leaf): # reach a leaf\n",
        "            return node.predictions\n",
        "        if data[i, node.question.column] >= node.question.value:\n",
        "            return self.classify(data, i, node.true_branch) # recursive直到找到結果\n",
        "        else:\n",
        "            return self.classify(data, i, node.false_branch)\n",
        "\n",
        "    def accuracy(self, data):\n",
        "        t = 0\n",
        "        f = 0\n",
        "        for i in range(data.shape[0]):\n",
        "            if data[i, -1] == self.classify(data, i, self.mytree): # correct\n",
        "                t += 1\n",
        "            else:\n",
        "                f += 1\n",
        "        return t / (t + f)"
      ]
    },
    {
      "cell_type": "markdown",
      "metadata": {
        "id": "wBhHqq7JJESF"
      },
      "source": [
        "### Question 2.1\n",
        "Using `criterion=gini`, showing the accuracy score of validation data by `max_depth=3` and `max_depth=10`, respectively.\n"
      ]
    },
    {
      "cell_type": "code",
      "execution_count": 6,
      "metadata": {
        "colab": {
          "base_uri": "https://localhost:8080/"
        },
        "id": "rVwnLU0oJESF",
        "outputId": "b87bc438-dbf0-47da-ae90-f3affd3a90e5"
      },
      "outputs": [
        {
          "name": "stdout",
          "output_type": "stream",
          "text": [
            "0.92\n",
            "0.93\n"
          ]
        }
      ],
      "source": [
        "clf_depth3 = DecisionTree(criterion='gini', max_depth=3)\n",
        "clf_depth3.fit(train_df.values[:, 0:(train_df.shape[1]-1)], train_df.values[:, -1])\n",
        "print(clf_depth3.accuracy(val_df.values))\n",
        "\n",
        "clf_depth10 = DecisionTree(criterion='gini', max_depth=10)\n",
        "clf_depth10.fit(train_df.values[:, 0:(train_df.shape[1]-1)], train_df.values[:, -1])\n",
        "print(clf_depth10.accuracy(val_df.values))"
      ]
    },
    {
      "cell_type": "markdown",
      "metadata": {
        "id": "lCIYJsLqJESF"
      },
      "source": [
        "### Question 2.2\n",
        "Using `max_depth=3`, showing the accuracy score of validation data by `criterion=gini` and `criterion=entropy`, respectively.\n"
      ]
    },
    {
      "cell_type": "code",
      "execution_count": 7,
      "metadata": {
        "colab": {
          "base_uri": "https://localhost:8080/"
        },
        "id": "6Lvnm6wxJESF",
        "outputId": "5c8a9ab6-0c76-4eb1-970d-b4c7f48924f3"
      },
      "outputs": [
        {
          "name": "stdout",
          "output_type": "stream",
          "text": [
            "0.92\n",
            "0.9333333333333333\n"
          ]
        }
      ],
      "source": [
        "clf_gini = DecisionTree(criterion='gini', max_depth=3)\n",
        "clf_gini.fit(train_df.values[:, 0:(train_df.shape[1]-1)], train_df.values[:, -1])\n",
        "print(clf_gini.accuracy(val_df.values))\n",
        "\n",
        "clf_entropy = DecisionTree(criterion='entropy', max_depth=3)\n",
        "clf_entropy.fit(train_df.values[:, 0:(train_df.shape[1]-1)], train_df.values[:, -1])\n",
        "print(clf_entropy.accuracy(val_df.values))"
      ]
    },
    {
      "cell_type": "markdown",
      "metadata": {
        "id": "v8NGYc8EJESF"
      },
      "source": [
        "- Note: Your decisition tree scores should over **0.9**. It may suffer from overfitting, if so, you can tune the hyperparameter such as `max_depth`\n",
        "- Note: You should get the same results when re-building the model with the same arguments,  no need to prune the trees\n",
        "- Hint: You can use the recursive method to build the nodes\n"
      ]
    },
    {
      "cell_type": "markdown",
      "metadata": {
        "id": "34sUhW-bJESF"
      },
      "source": [
        "## Question 3\n",
        "Plot the [feature importance](https://sefiks.com/2020/04/06/feature-importance-in-decision-trees/) of your Decision Tree model. You can get the feature importance by counting the feature used for splitting data.\n",
        "\n",
        "- You can simply plot the **counts of feature used** for building tree without normalize the importance. Take the figure below as example, outlook feature has been used for splitting for almost 50 times. Therefore, it has the largest importance"
      ]
    },
    {
      "cell_type": "code",
      "execution_count": 8,
      "metadata": {
        "colab": {
          "base_uri": "https://localhost:8080/"
        },
        "id": "xlyRg6y1myz8",
        "outputId": "5ef8527b-5fec-4351-f029-f525f751dae0"
      },
      "outputs": [
        {
          "data": {
            "image/png": "[encoded data removed]",
            "text/plain": [
              "<Figure size 640x480 with 1 Axes>"
            ]
          },
          "metadata": {},
          "output_type": "display_data"
        }
      ],
      "source": [
        "import matplotlib.pyplot as plt\n",
        "label = ['battery_power','blue','clock_speed','dual_sim','fc','four_g','int_memory','m_dep','mobile_wt','n_cores','pc','px_height','px_width','ram','sc_h','sc_w','talk_time','three_g','touch_screen','wifi']\n",
        "feature_count = []\n",
        "final_label = [] # 有被用到的再印\n",
        "for i in range(train_df.shape[1]-1):\n",
        "    if clf_depth10.features_counting[i] != 0: # 有用到這個feature\n",
        "        feature_count.append(clf_depth10.features_counting[i])\n",
        "        final_label.append(label[i])\n",
        "plt.barh(final_label, feature_count, tick_label=final_label, height=0.5)\n",
        "x_ticks=np.arange(0,20,1)\n",
        "plt.xticks(x_ticks)\n",
        "plt.show()"
      ]
    },
    {
      "cell_type": "markdown",
      "metadata": {
        "id": "EFdiX0tsJESG"
      },
      "source": [
        "## Question 4\n",
        "implement the AdaBooest algorithm by using the CART you just implemented from question 2 as base learner. You should implement one arguments for the AdaBooest.\n",
        "1. **n_estimators**: The maximum number of estimators at which boosting is terminated"
      ]
    },
    {
      "cell_type": "code",
      "execution_count": 9,
      "metadata": {
        "id": "Fo94fJPzJESG"
      },
      "outputs": [],
      "source": [
        "class AdaBoost():\n",
        "    def __init__(self, n_estimators):\n",
        "        self.n_estimators = n_estimators\n",
        "        self.dtrees = []\n",
        "        self.mytrees = []\n",
        "        self.criterion = 'gini'\n",
        "        self.max_depth = 1\n",
        "\n",
        "    def fit(self, x_data, y_data):\n",
        "        row = x_data.shape[0]\n",
        "        col = x_data.shape[1] + 1 #加上lable\n",
        "        data = np.empty(shape=(row, col))\n",
        "        data.fill(0)\n",
        "        data[:, 0:(col-1)] = x_data\n",
        "        data[:, -1] = y_data #合併x_data, y_data成data\n",
        "        self.build_tree(data)\n",
        "\n",
        "    def build_tree(self, o_data):\n",
        "        w = np.full(o_data.shape[0], (1 / o_data.shape[0]))\n",
        "        for _ in range(self.n_estimators): # for each classifiers\n",
        "          index = np.random.choice(o_data.shape[0], o_data.shape[0], replace=True, p=w) # 根據weight隨機sample data\n",
        "          index = index.tolist()\n",
        "          data = np.empty(shape=(o_data.shape[0],o_data.shape[1]))\n",
        "          data.fill(0)\n",
        "          for i in range(o_data.shape[0]):\n",
        "            data[i] = o_data[index[i]] # update data\n",
        "\n",
        "          dtree = DecisionTree(criterion=self.criterion, max_depth=self.max_depth) # find the best stump (using updated data)\n",
        "          mytree = dtree.build_tree(data, 0)\n",
        "\n",
        "          total_error = 0\n",
        "          for i in range(o_data.shape[0]): # for each original data\n",
        "            if o_data[i, -1] != dtree.classify(o_data, i, mytree): # incorrect\n",
        "              total_error += w[i]\n",
        "          mytree.alpha = (1/2) * (np.log((1 - total_error) / total_error)) # calculate alpha\n",
        "\n",
        "          for i in range(o_data.shape[0]):\n",
        "            if o_data[i, -1] != dtree.classify(o_data, i, mytree): # incorrect -> +alpha\n",
        "              w[i] *= np.exp(mytree.alpha)\n",
        "            else:\n",
        "              w[i] *= np.exp(-(mytree.alpha)) # correct -> -alpha\n",
        "          w /= sum(w) # normalize\n",
        "\n",
        "          # save\n",
        "          self.dtrees.append(dtree)\n",
        "          self.mytrees.append(mytree)\n",
        "\n",
        "    def predict(self, data):\n",
        "        if isinstance(data, pd.DataFrame): data = data.values\n",
        "        predit_list = []\n",
        "        for i in range(data.shape[0]):\n",
        "          result = 0\n",
        "          for j in range(self.n_estimators):\n",
        "            if self.dtrees[j].classify(data, i, self.mytrees[j]) == 0: # classify結果為0(相較於adaboost的-1)\n",
        "              result -= self.mytrees[j].alpha\n",
        "            else:\n",
        "              result += self.mytrees[j].alpha\n",
        "          if result > 0: # ababoost class1，相當於data的class1\n",
        "            pred = 1\n",
        "          else: # ababoost class-1，相當於data的class0\n",
        "            pred = 0\n",
        "          predit_list.append(pred)\n",
        "        predit_list = np.array(predit_list)\n",
        "        return predit_list\n",
        "\n",
        "    def accuracy(self, data):\n",
        "      t = 0\n",
        "      f = 0\n",
        "      predit_list = self.predict(data)\n",
        "      for i in range(data.shape[0]):\n",
        "        if predit_list[i] == data[i, -1]:\n",
        "          t += 1\n",
        "        else:\n",
        "          f += 1\n",
        "      return t / (t + f)\n"
      ]
    },
    {
      "cell_type": "markdown",
      "metadata": {
        "id": "6lat2NMgJESG"
      },
      "source": [
        "### Question 4.1\n",
        "Show the accuracy score of validation data by `n_estimators=10` and `n_estimators=100`, respectively.\n"
      ]
    },
    {
      "cell_type": "code",
      "execution_count": 10,
      "metadata": {
        "colab": {
          "base_uri": "https://localhost:8080/"
        },
        "id": "Gikbj2jiJESG",
        "outputId": "074f45a0-792e-48ca-8113-7a54afa1a54f"
      },
      "outputs": [
        {
          "name": "stdout",
          "output_type": "stream",
          "text": [
            "0.9466666666666667\n",
            "0.9666666666666667\n"
          ]
        }
      ],
      "source": [
        "clf10 = AdaBoost(n_estimators=10)\n",
        "clf10.fit(train_df.values[:, 0:(train_df.shape[1]-1)], train_df.values[:, -1])\n",
        "print(clf10.accuracy(val_df.values))\n",
        "\n",
        "clf100 = AdaBoost(n_estimators=100)\n",
        "clf100.fit(train_df.values[:, 0:(train_df.shape[1]-1)], train_df.values[:, -1])\n",
        "print(clf100.accuracy(val_df.values))"
      ]
    },
    {
      "cell_type": "markdown",
      "metadata": {
        "id": "jXfS5vSPJESG"
      },
      "source": [
        "## Question 5\n",
        "implement the Random Forest algorithm by using the CART you just implemented from question 2. You should implement three arguments for the Random Forest.\n",
        "\n",
        "1. **n_estimators**: The number of trees in the forest. \n",
        "2. **max_features**: The number of random select features to consider when looking for the best split\n",
        "3. **bootstrap**: Whether bootstrap samples are used when building tree\n"
      ]
    },
    {
      "cell_type": "code",
      "execution_count": 11,
      "metadata": {
        "id": "-e-h7rDTJESG"
      },
      "outputs": [],
      "source": [
        "class RandomForest():\n",
        "    def __init__(self, n_estimators, max_features, boostrap=True, criterion='gini', max_depth=None):\n",
        "        self.n_estimators = n_estimators\n",
        "        self.max_features = int(np.around(max_features))\n",
        "        self.boostrap = boostrap\n",
        "        self.criterion = criterion\n",
        "        self.max_depth = max_depth\n",
        "        self.dtrees = []\n",
        "        self.mytrees = []\n",
        "\n",
        "    def fit(self, x_data, y_data):\n",
        "        row = x_data.shape[0]\n",
        "        col = x_data.shape[1] + 1 #加上lable\n",
        "        data = np.empty(shape=(row, col))\n",
        "        data.fill(0)\n",
        "        data[:, 0:(col-1)] = x_data\n",
        "        data[:, -1] = y_data #合併x_data, y_data成data\n",
        "        self.build_tree(data)\n",
        "\n",
        "    def build_tree(self, o_data):\n",
        "        total_row = o_data.shape[0]\n",
        "        total_col = o_data.shape[1] - 1\n",
        "        for _ in range(self.n_estimators): # for each classifiers\n",
        "          if self.boostrap == True:\n",
        "            row_index = np.random.choice(total_row, total_row, replace=True) # 隨機sample data (uniform distributed)\n",
        "            row_index = row_index.tolist()\n",
        "            data = np.empty(shape=(total_row, total_col+1))\n",
        "            data.fill(0)\n",
        "            for i in range(total_row):\n",
        "              data[i] = o_data[row_index[i]] # update data\n",
        "          else:\n",
        "            data = o_data\n",
        "          dtree = DecisionTree(criterion=self.criterion, max_depth=self.max_depth)\n",
        "          dtree.max_features = self.max_features # 設定max_features\n",
        "          mytree = dtree.build_tree(data, 0)\n",
        "          self.dtrees.append(dtree)\n",
        "          self.mytrees.append(mytree)\n",
        "\n",
        "    def predict(self, data):\n",
        "        if isinstance(data, pd.DataFrame): data = data.values\n",
        "        predit_list = []\n",
        "        for i in range(data.shape[0]):\n",
        "          pred0 = 0\n",
        "          pred1 = 0\n",
        "          for j in range(self.n_estimators):\n",
        "            if self.dtrees[j].classify(data, i, self.mytrees[j]) == 0: # classify結果為0\n",
        "              pred0 += 1\n",
        "            else:\n",
        "              pred1 +=1\n",
        "          if pred0 > pred1: # majority vote\n",
        "            pred = 0\n",
        "          else:\n",
        "            pred = 1\n",
        "          predit_list.append(pred)\n",
        "        predit_list = np.array(predit_list)\n",
        "        return predit_list\n",
        "\n",
        "    def accuracy(self, data):\n",
        "      t = 0\n",
        "      f = 0\n",
        "      predit_list = self.predict(data)\n",
        "      for i in range(data.shape[0]):\n",
        "        if predit_list[i] == data[i, -1]:\n",
        "          t += 1\n",
        "        else:\n",
        "          f += 1\n",
        "      return t / (t + f)"
      ]
    },
    {
      "cell_type": "markdown",
      "metadata": {
        "id": "X-a9_3oUJESG"
      },
      "source": [
        "### Question 5.1\n",
        "Using `criterion=gini`, `max_depth=None`, `max_features=sqrt(n_features)`, showing the accuracy score of validation data by `n_estimators=10` and `n_estimators=100`, respectively.\n"
      ]
    },
    {
      "cell_type": "code",
      "execution_count": 12,
      "metadata": {
        "colab": {
          "base_uri": "https://localhost:8080/"
        },
        "id": "t-n9V0nIJESG",
        "outputId": "2d301d02-3a49-412c-a7d6-749c4e460d3f"
      },
      "outputs": [
        {
          "name": "stdout",
          "output_type": "stream",
          "text": [
            "0.9466666666666667\n",
            "0.9466666666666667\n"
          ]
        }
      ],
      "source": [
        "clf_10tree = RandomForest(n_estimators=10, max_features=np.sqrt(train_df.values.shape[1]-1))\n",
        "clf_10tree.fit(train_df.values[:, 0:(train_df.shape[1]-1)], train_df.values[:, -1])\n",
        "print(clf_10tree.accuracy(val_df.values))\n",
        "\n",
        "clf_100tree = RandomForest(n_estimators=100, max_features=np.sqrt(train_df.values.shape[1]-1))\n",
        "clf_100tree.fit(train_df.values[:, 0:(train_df.shape[1]-1)], train_df.values[:, -1])\n",
        "print(clf_100tree.accuracy(val_df.values))"
      ]
    },
    {
      "cell_type": "markdown",
      "metadata": {
        "id": "PPw6pWDMJESH"
      },
      "source": [
        "### Question 5.2\n",
        "Using `criterion=gini`, `max_depth=None`, `n_estimators=10`, showing the accuracy score of validation data by `max_features=sqrt(n_features)` and `max_features=n_features`, respectively.\n"
      ]
    },
    {
      "cell_type": "code",
      "execution_count": 13,
      "metadata": {
        "colab": {
          "base_uri": "https://localhost:8080/"
        },
        "id": "Ibyp9eD1JESH",
        "outputId": "c933a777-e11c-4fe0-89bf-018c421510dd"
      },
      "outputs": [
        {
          "name": "stdout",
          "output_type": "stream",
          "text": [
            "0.9566666666666667\n",
            "0.96\n"
          ]
        }
      ],
      "source": [
        "clf_random_features = RandomForest(n_estimators=10, max_features=np.sqrt(train_df.values.shape[1]-1))\n",
        "clf_random_features.fit(train_df.values[:, 0:(train_df.shape[1]-1)], train_df.values[:, -1])\n",
        "print(clf_random_features.accuracy(val_df.values))\n",
        "\n",
        "clf_all_features = RandomForest(n_estimators=10, max_features=(train_df.values.shape[1]-1))\n",
        "clf_all_features.fit(train_df.values[:, 0:(train_df.shape[1]-1)], train_df.values[:, -1])\n",
        "print(clf_all_features.accuracy(val_df.values))"
      ]
    },
    {
      "cell_type": "markdown",
      "metadata": {
        "id": "IAqOgJn1JESH"
      },
      "source": [
        "- Note: Use majority votes to get the final prediction, you may get slightly different results when re-building the random forest model"
      ]
    },
    {
      "cell_type": "markdown",
      "metadata": {
        "id": "Vxgrqog_JESH"
      },
      "source": [
        "## Question 6. Train and tune your model on a real-world dataset\n",
        "Try you best to get higher accuracy score of your model. After parameter tuning, you can train your model on the full dataset (train + val).\n",
        "- Feature engineering\n",
        "- Hyperparameter tuning\n",
        "- Implement any other ensemble methods, such as gradient boosting. Please note that you **can not** call any package. Also, only ensemble method can be used. Neural network method is not allowed to used."
      ]
    },
    {
      "cell_type": "code",
      "execution_count": 14,
      "metadata": {
        "id": "npis7PDnJESH"
      },
      "outputs": [],
      "source": [
        "def train_your_model(data):\n",
        "    model = AdaBoost(n_estimators=100)\n",
        "    model.criterion = 'gini'\n",
        "    model.max_depth = 1\n",
        "    model.fit(data.values[:, 0:(data.shape[1]-1)], data.values[:, -1])\n",
        "    return model"
      ]
    },
    {
      "cell_type": "code",
      "execution_count": 25,
      "metadata": {
        "id": "VBOeuU_fJESH"
      },
      "outputs": [],
      "source": [
        "import pickle\n",
        "import pandas as pd\n",
        "import numpy as np\n",
        "\n",
        "train_df = pd.read_csv('/Users/chunpei/ML/hw3/train.csv')\n",
        "val_df = pd.read_csv('/Users/chunpei/ML/hw3/val.csv')\n",
        "trainval_df = pd.concat([train_df, val_df])\n",
        "my_model = train_your_model(trainval_df)"
      ]
    },
    {
      "cell_type": "code",
      "execution_count": 20,
      "metadata": {
        "id": "oVs1Fv1cJESH"
      },
      "outputs": [],
      "source": [
        "x_test = pd.read_csv('/Users/chunpei/ML/hw3/x_test.csv')\n",
        "y_pred = my_model.predict(x_test)\n",
        "\n",
        "\n",
        "with open('model.pickle', 'wb') as pkl_file:\n",
        "    pickle.dump(my_model, pkl_file, protocol=pickle.HIGHEST_PROTOCOL)\n",
        "\n",
        "np.save(\"y_pred.npy\", y_pred)"
      ]
    },
    {
      "cell_type": "code",
      "execution_count": 21,
      "metadata": {
        "id": "IAbWlNm1JESH"
      },
      "outputs": [],
      "source": [
        "assert y_pred.shape == (500, )"
      ]
    },
    {
      "cell_type": "markdown",
      "metadata": {
        "id": "GHGxXlwKJESH"
      },
      "source": [
        "## Supplementary\n",
        "If you have trouble to implement this homework, TA strongly recommend watching [this video](https://www.youtube.com/watch?v=LDRbO9a6XPU), which explains Decision Tree model clearly. But don't copy code from any resources, try to finish this homework by yourself! "
      ]
    },
    {
      "cell_type": "markdown",
      "metadata": {
        "id": "i5MQYdwmJESH"
      },
      "source": [
        "### DO NOT MODIFY CODE BELOW"
      ]
    },
    {
      "cell_type": "code",
      "execution_count": 17,
      "metadata": {
        "id": "dpes-uG9JESH"
      },
      "outputs": [],
      "source": [
        "import pandas as pd\n",
        "from sklearn.metrics import accuracy_score"
      ]
    },
    {
      "cell_type": "code",
      "execution_count": null,
      "metadata": {
        "id": "wMD2FTh_FPoj"
      },
      "outputs": [],
      "source": [
        "y_test = pd.read_csv('y_test.csv')['price_range'].values\n",
        "\n",
        "print('Test-set accuarcy score: ', accuracy_score(y_test, y_pred))"
      ]
    },
    {
      "cell_type": "code",
      "execution_count": 18,
      "metadata": {
        "colab": {
          "base_uri": "https://localhost:8080/"
        },
        "id": "ePRSbt4UJESI",
        "outputId": "14722d4e-37fb-43d7-a700-480e3261483c"
      },
      "outputs": [
        {
          "name": "stdout",
          "output_type": "stream",
          "text": [
            "*** We will check your result for Question 3 manually *** (5 points)\n",
            "*** We will check your result for Question 6 manually *** (20 points)\n",
            "Approximate score range: 45.0 ~ 70.0\n",
            "*** This score is only for reference ***\n"
          ]
        }
      ],
      "source": [
        "def discrete_checker(score, thres, clf, name, x_train, y_train, x_test, y_test):\n",
        "    clf.fit(x_train, y_train)\n",
        "    y_pred = clf.predict(x_test)\n",
        "    if accuracy_score(y_test, y_pred) - thres >= 0:\n",
        "        return score\n",
        "    else:\n",
        "        print(f\"{name} failed\")\n",
        "        return 0\n",
        "\n",
        "\n",
        "def patient_checker(score, thres, CLS, kwargs, name,\n",
        "                    x_train, y_train, x_test, y_test, patient=10):\n",
        "    while patient > 0:\n",
        "        patient -= 1\n",
        "        clf = CLS(**kwargs)\n",
        "        clf.fit(x_train, y_train)\n",
        "        y_pred = clf.predict(x_test)\n",
        "        if accuracy_score(y_test, y_pred) - thres >= 0:\n",
        "            return score\n",
        "    print(f\"{name} failed\")\n",
        "    print(\"Considering the randomness, we will check it manually\")\n",
        "    return 0\n",
        "\n",
        "\n",
        "def load_dataset():\n",
        "    file_url = \"http://storage.googleapis.com/download.tensorflow.org/data/abalone_train.csv\"\n",
        "    df = pd.read_csv(\n",
        "        file_url,\n",
        "        names=[\"Length\", \"Diameter\", \"Height\", \"Whole weight\", \"Shucked weight\",\n",
        "               \"Viscera weight\", \"Shell weight\", \"Age\"]\n",
        "    )\n",
        "\n",
        "    df['Target'] = (df[\"Age\"] > 15).astype(int)\n",
        "    df = df.drop(labels=[\"Age\"], axis=\"columns\")\n",
        "\n",
        "    train_idx = range(0, len(df), 10)\n",
        "    test_idx = range(1, len(df), 20)\n",
        "\n",
        "    train_df = df.iloc[train_idx]\n",
        "    test_df = df.iloc[test_idx]\n",
        "\n",
        "    x_train = train_df.drop(labels=[\"Target\"], axis=\"columns\")\n",
        "    feature_names = x_train.columns.values\n",
        "    x_train = x_train.values\n",
        "    y_train = train_df['Target'].values\n",
        "\n",
        "    x_test = test_df.drop(labels=[\"Target\"], axis=\"columns\")\n",
        "    x_test = x_test.values\n",
        "    y_test = test_df['Target'].values\n",
        "    return x_train, y_train, x_test, y_test, feature_names\n",
        "\n",
        "\n",
        "score = 0\n",
        "\n",
        "data = np.array([1, 2])\n",
        "if abs(gini(data) - 0.5) < 1e-4:\n",
        "    score += 2.5\n",
        "else:\n",
        "    print(\"gini test failed\")\n",
        "\n",
        "if abs(entropy(data) - 1) < 1e-4:\n",
        "    score += 2.5\n",
        "else:\n",
        "    print(\"entropy test failed\")\n",
        "\n",
        "x_train, y_train, x_test, y_test, feature_names = load_dataset()\n",
        "\n",
        "score += discrete_checker(5, 0.9337,\n",
        "                          DecisionTree(criterion='gini', max_depth=3),\n",
        "                          \"DecisionTree(criterion='gini', max_depth=3)\",\n",
        "                          x_train, y_train, x_test, y_test\n",
        "                          )\n",
        "\n",
        "score += discrete_checker(2.5, 0.9036,\n",
        "                          DecisionTree(criterion='gini', max_depth=10),\n",
        "                          \"DecisionTree(criterion='gini', max_depth=10)\",\n",
        "                          x_train, y_train, x_test, y_test\n",
        "                          )\n",
        "\n",
        "score += discrete_checker(2.5, 0.9096,\n",
        "                          DecisionTree(criterion='entropy', max_depth=3),\n",
        "                          \"DecisionTree(criterion='entropy', max_depth=3)\",\n",
        "                          x_train, y_train, x_test, y_test\n",
        "                          )\n",
        "\n",
        "print(\"*** We will check your result for Question 3 manually *** (5 points)\")\n",
        "\n",
        "score += patient_checker(\n",
        "    7.5, 0.91, AdaBoost, {\"n_estimators\": 10},\n",
        "    \"AdaBoost(n_estimators=10)\",\n",
        "    x_train, y_train, x_test, y_test\n",
        ")\n",
        "\n",
        "score += patient_checker(\n",
        "    7.5, 0.87, AdaBoost, {\"n_estimators\": 100},\n",
        "    \"AdaBoost(n_estimators=100)\",\n",
        "    x_train, y_train, x_test, y_test\n",
        ")\n",
        "\n",
        "score += patient_checker(\n",
        "    5, 0.91, RandomForest,\n",
        "    {\"n_estimators\": 10, \"max_features\": np.sqrt(x_train.shape[1])},\n",
        "    \"RandomForest(n_estimators=10, max_features=sqrt(n_features))\",\n",
        "    x_train, y_train, x_test, y_test\n",
        ")\n",
        "\n",
        "score += patient_checker(\n",
        "    5, 0.91, RandomForest,\n",
        "    {\"n_estimators\": 100, \"max_features\": np.sqrt(x_train.shape[1])},\n",
        "    \"RandomForest(n_estimators=100, max_features=sqrt(n_features))\",\n",
        "    x_train, y_train, x_test, y_test\n",
        ")\n",
        "\n",
        "score += patient_checker(\n",
        "    5, 0.92, RandomForest,\n",
        "    {\"n_estimators\": 10, \"max_features\": x_train.shape[1]},\n",
        "    \"RandomForest(n_estimators=10, max_features=n_features)\",\n",
        "    x_train, y_train, x_test, y_test\n",
        ")\n",
        "\n",
        "print(\"*** We will check your result for Question 6 manually *** (20 points)\")\n",
        "print(\"Approximate score range:\", score, \"~\", score + 25)\n",
        "print(\"*** This score is only for reference ***\")"
      ]
    }
  ],
  "metadata": {
    "colab": {
      "collapsed_sections": [
        "HWx_mc1QJESD",
        "34sUhW-bJESF",
        "EFdiX0tsJESG"
      ],
      "provenance": []
    },
    "kernelspec": {
      "display_name": "Python 3.10.8 64-bit",
      "language": "python",
      "name": "python3"
    },
    "language_info": {
      "codemirror_mode": {
        "name": "ipython",
        "version": 3
      },
      "file_extension": ".py",
      "mimetype": "text/x-python",
      "name": "python",
      "nbconvert_exporter": "python",
      "pygments_lexer": "ipython3",
      "version": "3.10.8"
    },
    "vscode": {
      "interpreter": {
        "hash": "b0fa6594d8f4cbf19f97940f81e996739fb7646882a419484c72d19e05852a7e"
      }
    }
  },
  "nbformat": 4,
  "nbformat_minor": 0
}
