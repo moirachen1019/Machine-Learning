{
  "cells": [
    {
      "cell_type": "code",
      "execution_count": 89,
      "metadata": {
        "id": "NWeme7Vhf_M_"
      },
      "outputs": [],
      "source": [
        "import numpy as np \n",
        "import pandas as pd\n",
        "import matplotlib.pyplot as plt"
      ]
    },
    {
      "cell_type": "markdown",
      "metadata": {
        "id": "0SQSlbBwv3_I"
      },
      "source": [
        "# Linear regression model\n"
      ]
    },
    {
      "cell_type": "code",
      "execution_count": 90,
      "metadata": {
        "colab": {
          "base_uri": "https://localhost:8080/",
          "height": 283
        },
        "id": "8_-_ZeqpZeII",
        "outputId": "0de95a16-e1bd-4eff-fd9b-580edac3505c"
      },
      "outputs": [
        {
          "data": {
            "text/plain": [
              "[<matplotlib.lines.Line2D at 0x7fb29b89d2d0>]"
            ]
          },
          "execution_count": 90,
          "metadata": {},
          "output_type": "execute_result"
        },
        {
          "data": {
            "image/png": "[encoded data removed]",
            "text/plain": [
              "<Figure size 432x288 with 1 Axes>"
            ]
          },
          "metadata": {
            "needs_background": "light"
          },
          "output_type": "display_data"
        }
      ],
      "source": [
        "x_train, x_test, y_train, y_test = np.load('/content/drive/MyDrive/ML_HW1/regression_data.npy', allow_pickle=True)\n",
        "plt.plot(x_train, y_train, '.')"
      ]
    },
    {
      "cell_type": "code",
      "execution_count": 91,
      "metadata": {
        "id": "MOxWBGG9gD1F"
      },
      "outputs": [],
      "source": [
        "x_train = np.array(x_train).flatten()\n",
        "size_train = float(len(x_train))\n",
        "y_train = np.array(y_train)\n",
        "\n",
        "x_test = np.array(x_test).flatten()\n",
        "size_test = float(len(x_test))\n",
        "y_test = np.array(y_test)\n",
        "\n",
        "weights = np.random.normal()\n",
        "intercepts = np.random.normal()\n",
        "\n",
        "eta = 0.005\n",
        "epochs = 1000\n",
        "\n",
        "train_history = []\n",
        "\n",
        "for i in range(epochs): \n",
        "    y_pred = weights * x_train + intercepts\n",
        "    y_pred_test = weights * x_test + intercepts\n",
        "    weights = weights - eta * ((-2 / size_train) * sum(x_train * (y_train - y_pred)))\n",
        "    intercepts = intercepts - eta * ((-2 / size_train) * sum(y_train - y_pred))\n",
        "    train_history.append((1 / size_train) * sum((y_train - y_pred)**2))\n",
        "\n",
        "MSE = (1 / size_test) * sum((y_test - y_pred_test)**2)\n",
        "y_pred = weights * x_train + intercepts"
      ]
    },
    {
      "cell_type": "code",
      "execution_count": 92,
      "metadata": {
        "colab": {
          "base_uri": "https://localhost:8080/",
          "height": 281
        },
        "id": "n7d8vNYCgpYF",
        "outputId": "f317a134-1ccd-4b44-c19c-d6f5cc7ac120"
      },
      "outputs": [
        {
          "data": {
            "image/png": "[encoded data removed]",
            "text/plain": [
              "<Figure size 432x288 with 1 Axes>"
            ]
          },
          "metadata": {
            "needs_background": "light"
          },
          "output_type": "display_data"
        }
      ],
      "source": [
        "plt.title('Learning Curve')\n",
        "plt.plot(train_history)\n",
        "plt.show()"
      ]
    },
    {
      "cell_type": "code",
      "execution_count": 93,
      "metadata": {
        "colab": {
          "base_uri": "https://localhost:8080/"
        },
        "id": "JmlfwuKQvGx9",
        "outputId": "524e10ff-7dc4-446e-8b4c-2fcd3339e150"
      },
      "outputs": [
        {
          "name": "stdout",
          "output_type": "stream",
          "text": [
            "Mean Square Error: 110.42352089914914\n",
            "weights: 52.73882513770308\n",
            "intercepts: -0.3344699947594075\n"
          ]
        }
      ],
      "source": [
        "print(\"Mean Square Error:\", MSE)\n",
        "print(\"weights:\", weights)\n",
        "print(\"intercepts:\", intercepts)"
      ]
    },
    {
      "cell_type": "markdown",
      "metadata": {
        "id": "EhGM5u4qwibW"
      },
      "source": [
        "# Logistic regression model"
      ]
    },
    {
      "cell_type": "code",
      "execution_count": 94,
      "metadata": {
        "colab": {
          "base_uri": "https://localhost:8080/",
          "height": 283
        },
        "id": "JvCgFmCwfASM",
        "outputId": "7e03cd4b-ca28-4cec-f41e-2fce44ae5c35"
      },
      "outputs": [
        {
          "data": {
            "text/plain": [
              "<matplotlib.collections.PathCollection at 0x7fb29b7f5910>"
            ]
          },
          "execution_count": 94,
          "metadata": {},
          "output_type": "execute_result"
        },
        {
          "data": {
            "image/png": "[encoded data removed]",
            "text/plain": [
              "<Figure size 432x288 with 1 Axes>"
            ]
          },
          "metadata": {
            "needs_background": "light"
          },
          "output_type": "display_data"
        }
      ],
      "source": [
        "x_train, x_test, y_train, y_test = np.load('/content/drive/MyDrive/ML_HW1/classification_data.npy', allow_pickle=True)\n",
        "plt.scatter(x_train, np.ones_like(x_train), c=y_train)"
      ]
    },
    {
      "cell_type": "code",
      "execution_count": 95,
      "metadata": {
        "id": "9JcJ7QABgebY"
      },
      "outputs": [],
      "source": [
        "x_train = np.array(x_train).flatten()\n",
        "y_train = np.array(y_train)\n",
        "size_train = float(len(x_train))\n",
        "x_test = np.array(x_test).flatten()\n",
        "size_test = float(len(x_test))\n",
        "y_test = np.array(y_test)\n",
        "\n",
        "weights = np.random.normal()\n",
        "intercepts = np.random.normal()\n",
        "\n",
        "eta = 0.005\n",
        "epochs = 500\n",
        "\n",
        "train_history = []\n",
        "\n",
        "for i in range(epochs): \n",
        "    y_pred = 1 / (1 + np.exp(weights * x_train + intercepts))\n",
        "    weights = weights - (eta * sum((y_train - y_pred) * x_train))\n",
        "    intercepts = intercepts - (eta * sum(y_train - y_pred))\n",
        "    train_history.append(sum((-y_train) * np.log(y_pred) - (1 - y_train) * np.log(1 - y_pred)))\n",
        "    y_pred_test = 1 / (1 + np.exp(weights * x_test + intercepts))\n",
        "\n",
        "cross_entropy = sum((-y_test) * np.log(y_pred_test) - (1 - y_test) * np.log(1 - y_pred_test))"
      ]
    },
    {
      "cell_type": "code",
      "execution_count": 96,
      "metadata": {
        "colab": {
          "base_uri": "https://localhost:8080/",
          "height": 281
        },
        "id": "3-U9cTc_fREz",
        "outputId": "6b678243-e6e1-46c4-bc9d-7baac372a90d"
      },
      "outputs": [
        {
          "data": {
            "image/png": "[encoded data removed]",
            "text/plain": [
              "<Figure size 432x288 with 1 Axes>"
            ]
          },
          "metadata": {
            "needs_background": "light"
          },
          "output_type": "display_data"
        }
      ],
      "source": [
        "plt.title('Learning Curve')\n",
        "plt.plot(train_history)\n",
        "plt.show()"
      ]
    },
    {
      "cell_type": "code",
      "execution_count": 97,
      "metadata": {
        "colab": {
          "base_uri": "https://localhost:8080/"
        },
        "id": "aj0qZVYuvI6a",
        "outputId": "30c75a40-3f58-468e-9968-18a173b193a4"
      },
      "outputs": [
        {
          "name": "stdout",
          "output_type": "stream",
          "text": [
            "cross_entropy: 47.24761018449381\n",
            "weights: -4.876889778933664\n",
            "intercepts: -1.7116223226069782\n"
          ]
        }
      ],
      "source": [
        "print(\"cross_entropy:\", cross_entropy)\n",
        "print(\"weights:\", weights)\n",
        "print(\"intercepts:\", intercepts)"
      ]
    }
  ],
  "metadata": {
    "colab": {
      "provenance": []
    },
    "kernelspec": {
      "display_name": "Python 3.9.6 64-bit",
      "language": "python",
      "name": "python3"
    },
    "language_info": {
      "name": "python",
      "version": "3.9.6"
    },
    "vscode": {
      "interpreter": {
        "hash": "31f2aee4e71d21fbe5cf8b01ff0e069b9275f58929596ceb00d14d90e3e16cd6"
      }
    }
  },
  "nbformat": 4,
  "nbformat_minor": 0
}
